{
  "nbformat": 4,
  "nbformat_minor": 0,
  "metadata": {
    "colab": {
      "provenance": []
    },
    "kernelspec": {
      "name": "python3",
      "display_name": "Python 3"
    },
    "language_info": {
      "name": "python"
    }
  },
  "cells": [
    {
      "cell_type": "code",
      "source": [
        "import matplotlib.pyplot as plt\n",
        "import numpy as np\n",
        "import pandas as pd\n",
        "import random\n",
        "import seaborn as sns\n",
        "from numpy import log as ln\n",
        "from scipy.stats import norm\n",
        "import math"
      ],
      "metadata": {
        "id": "KG5MZGwWpqGL"
      },
      "execution_count": null,
      "outputs": []
    },
    {
      "cell_type": "code",
      "source": [
        "print(1-norm.cdf(1.645, scale = 1 , loc= 14/math.sqrt(20)))"
      ],
      "metadata": {
        "colab": {
          "base_uri": "https://localhost:8080/"
        },
        "id": "flzFk07y_qeJ",
        "outputId": "02858c94-ab38-42f2-8888-f97734eebaf3"
      },
      "execution_count": null,
      "outputs": [
        {
          "output_type": "stream",
          "name": "stdout",
          "text": [
            "0.9312936488408898\n"
          ]
        }
      ]
    },
    {
      "cell_type": "markdown",
      "source": [
        "# **Q1**\n",
        "\n",
        "**part A:**"
      ],
      "metadata": {
        "id": "IGWGKROsSLk9"
      }
    },
    {
      "cell_type": "code",
      "source": [
        "randArr_norm = np.random.normal(100, 10, 10**5)\n",
        "X = [113, 105, 102, 104, 117, 123, 110, 108, 93, 96, 99, 107, 112, 82, 96]\n",
        "sns.kdeplot(X , color = \"b\")\n",
        "sns.kdeplot(randArr_norm , color = \"r\")"
      ],
      "metadata": {
        "colab": {
          "base_uri": "https://localhost:8080/",
          "height": 282
        },
        "id": "qHMum1N9MZbD",
        "outputId": "962c7526-9258-49e0-d890-588391554c93"
      },
      "execution_count": null,
      "outputs": [
        {
          "output_type": "execute_result",
          "data": {
            "text/plain": [
              "<matplotlib.axes._subplots.AxesSubplot at 0x7f9924327130>"
            ]
          },
          "metadata": {},
          "execution_count": 154
        },
        {
          "output_type": "display_data",
          "data": {
            "text/plain": [
              "<Figure size 432x288 with 1 Axes>"
            ],
            "image/png": "[encoded data removed]"
          },
          "metadata": {
            "needs_background": "light"
          }
        }
      ]
    },
    {
      "cell_type": "markdown",
      "source": [
        "**part B**"
      ],
      "metadata": {
        "id": "kYrH2FlISScn"
      }
    },
    {
      "cell_type": "code",
      "source": [
        "e = (norm.ppf(0.9,0,1)*10/math.sqrt(15))\n",
        "print(\"Confidence interval of 80% : \"+'['+str(sum(X)/15-e)+', '+str(sum(X)/15+e)+\"]\")"
      ],
      "metadata": {
        "colab": {
          "base_uri": "https://localhost:8080/"
        },
        "id": "SgAtTPLONpNo",
        "outputId": "9a91f8e2-f823-449a-dfcf-e9912f3658bb"
      },
      "execution_count": null,
      "outputs": [
        {
          "output_type": "stream",
          "name": "stdout",
          "text": [
            "Confidence interval of 80% : [101.15771475289316, 107.77561858044018]\n"
          ]
        }
      ]
    },
    {
      "cell_type": "markdown",
      "source": [
        "**part C :**"
      ],
      "metadata": {
        "id": "4-ant7QjSXab"
      }
    },
    {
      "cell_type": "markdown",
      "source": [
        "The meaning of Confidence interval is that if we took all the possiable options of 15 samples vectors X. In 80% of them E[X] belongs in the range of the Confidence interval that we found."
      ],
      "metadata": {
        "id": "-qhKiuTZSaUG"
      }
    },
    {
      "cell_type": "markdown",
      "source": [
        "**part D :**"
      ],
      "metadata": {
        "id": "VWb85GwfTW0z"
      }
    },
    {
      "cell_type": "markdown",
      "source": [
        "Because the real value of u is 100 and 100 not belongs to our 80% Confidence interval It must mean that we got an unusual semples.Therefor we think the semples are exceptional.\n",
        "\n"
      ],
      "metadata": {
        "id": "UwLkGT7NTZjH"
      }
    },
    {
      "cell_type": "markdown",
      "source": [
        "**part E:**"
      ],
      "metadata": {
        "id": "LKczh-ZGUOtu"
      }
    },
    {
      "cell_type": "code",
      "source": [
        "e = (norm.ppf(0.975,0,1)*10/math.sqrt(15))\n",
        "print(\"Confidence interval of 95% : \"+'['+str(sum(X)/15-e)+', '+str(sum(X)/15+e)+\"]\")"
      ],
      "metadata": {
        "colab": {
          "base_uri": "https://localhost:8080/"
        },
        "id": "eKjxLRX9UN7k",
        "outputId": "88b3ae40-093b-48cb-901b-5f6d9e76eb6d"
      },
      "execution_count": null,
      "outputs": [
        {
          "output_type": "stream",
          "name": "stdout",
          "text": [
            "Confidence interval of 95% : [99.40606141914003, 109.5272719141933]\n"
          ]
        }
      ]
    },
    {
      "cell_type": "markdown",
      "source": [
        "Because 100 now belongs to the range the samples are not unusual ."
      ],
      "metadata": {
        "id": "IaaPTwOMZfS9"
      }
    },
    {
      "cell_type": "markdown",
      "source": [
        "**part F:**"
      ],
      "metadata": {
        "id": "-_1V0xxfaFfl"
      }
    },
    {
      "cell_type": "code",
      "source": [
        "s = 0\n",
        "avg = sum(X)/15\n",
        "print(avg)\n",
        "for i in range(15):\n",
        "  s += pow(X[i] - avg,2)\n",
        "est = math.sqrt(s/14)\n",
        "e = (norm.ppf(0.975,0,1)*est/math.sqrt(15))\n",
        "print(\"Confidence interval of 95% : \"+'['+str(sum(X)/15-e)+', '+str(sum(X)/15+e)+\"]\")"
      ],
      "metadata": {
        "colab": {
          "base_uri": "https://localhost:8080/"
        },
        "id": "3Dkgihu5jEpX",
        "outputId": "e8e61b4d-9adf-4bd2-b7af-1577974f9d54"
      },
      "execution_count": null,
      "outputs": [
        {
          "output_type": "stream",
          "name": "stdout",
          "text": [
            "104.46666666666667\n",
            "Confidence interval of 95% : [99.23589780451687, 109.69743552881647]\n"
          ]
        }
      ]
    },
    {
      "cell_type": "markdown",
      "source": [
        "Because 100 now belongs to the range the semples are not unusual similar to the last part."
      ],
      "metadata": {
        "id": "9RqH4XxJj1-G"
      }
    },
    {
      "cell_type": "markdown",
      "source": [
        "**part G Bonus:**"
      ],
      "metadata": {
        "id": "J1M30ltRkHff"
      }
    },
    {
      "cell_type": "code",
      "source": [
        "from scipy.stats import t\n",
        "\n",
        "t.cdf(1.672,df = 14)"
      ],
      "metadata": {
        "colab": {
          "base_uri": "https://localhost:8080/"
        },
        "id": "3me4vHHYJHzb",
        "outputId": "60bfc1f3-6d1a-4843-ae62-ae9be42fc06a"
      },
      "execution_count": null,
      "outputs": [
        {
          "output_type": "execute_result",
          "data": {
            "text/plain": [
              "0.9416421559706475"
            ]
          },
          "metadata": {},
          "execution_count": 145
        }
      ]
    },
    {
      "cell_type": "markdown",
      "source": [
        "We want to find a such that a Confidence interval with 1-a precentage will give us an interval (100,l), l is arbitrary number above 100.\n",
        "Thus ,  \n",
        "E[x] - e = 100 and e = T(1-a/2)* *(10.33/sqrt(15))\n",
        "after solving the equations we find that T(1-a/2) = 1.67 --> a = 0.1168 ,Confidence interval 0f  88.32%\n"
      ],
      "metadata": {
        "id": "6URqhD1JkQbF"
      }
    },
    {
      "cell_type": "markdown",
      "source": [
        "\n",
        "\n",
        "---\n",
        "\n",
        "# **Q2**"
      ],
      "metadata": {
        "id": "lCb_tSWXpSd2"
      }
    },
    {
      "cell_type": "markdown",
      "source": [
        "**part A:**"
      ],
      "metadata": {
        "id": "KkQMnKuqpcUs"
      }
    },
    {
      "cell_type": "code",
      "source": [
        "data_12 = pd.read_csv(\"/content/Keshet12.csv\")\n",
        "data_13 = pd.read_csv(\"/content/Reshet13.csv\")\n",
        "VoteArr_12=[]\n",
        "VoteArr_13=[]\n",
        "for i in range(data_12.columns.size):\n",
        "  VoteArr_13.append(sum(data_13[data_13.columns[i]]))\n",
        "  VoteArr_12.append(sum(data_12[data_12.columns[i]]))\n",
        "total_votes13 = sum(VoteArr_13)\n",
        "total_votes12 = sum(VoteArr_12)\n",
        "Prec_Arr_13 = VoteArr_13.copy()\n",
        "Prec_Arr_12 = VoteArr_12.copy()\n",
        "for i in range(len(VoteArr_12)):\n",
        "  Prec_Arr_12[i] = round(Prec_Arr_12[i]/total_votes12,3)\n",
        "  Prec_Arr_13[i] = round(Prec_Arr_13[i]/total_votes13,3)\n",
        "print(\"Vote precentage 13 : \" ,Prec_Arr_13 )\n",
        "print(\"Vote precentage 12 : \" ,Prec_Arr_12)"
      ],
      "metadata": {
        "colab": {
          "base_uri": "https://localhost:8080/"
        },
        "id": "Z9jZ0bowpe_n",
        "outputId": "cd843300-6f5c-4620-f09d-d9848dafb66c"
      },
      "execution_count": null,
      "outputs": [
        {
          "output_type": "stream",
          "name": "stdout",
          "text": [
            "Vote precentage 13 :  [0.047, 0.047, 0.013, 0.03, 0.033, 0.033, 0.038, 0.047, 0.286, 0.029, 0.034, 0.019, 0.284, 0.06]\n",
            "Vote precentage 12 :  [0.039, 0.058, 0.04, 0.04, 0.031, 0.052, 0.03, 0.033, 0.298, 0.036, 0.043, 0.018, 0.202, 0.079]\n"
          ]
        }
      ]
    },
    {
      "cell_type": "markdown",
      "source": [
        "**part B:**"
      ],
      "metadata": {
        "id": "eg1DACChv_xA"
      }
    },
    {
      "cell_type": "code",
      "source": [
        "\n",
        "print(\"Confidence interval of 95% of channel 13 : \")\n",
        "for i in range(len(VoteArr_13)):\n",
        "  e_13 = 1.96*math.sqrt(0.25/total_votes13)\n",
        "  c_i_13 =  [Prec_Arr_13[i] -e_13,Prec_Arr_13[i] + e_13 ]\n",
        "  print(\"C_I for group \"+data_13.columns[i]+\": \",c_i_13)\n",
        "print(\"\\n\\n\\n\\n\")\n",
        "print(\"Confidence interval of 95% of channel 12 : \")\n",
        "for i in range(len(VoteArr_13)):\n",
        "  e_12 = 1.96*math.sqrt(0.25/total_votes12)\n",
        "  c_i_12 =  [Prec_Arr_12[i] -e_12,Prec_Arr_12[i] + e_12 ]\n",
        "  print(\"C_I for group \"+data_12.columns[i]+\": \",c_i_12)"
      ],
      "metadata": {
        "colab": {
          "base_uri": "https://localhost:8080/"
        },
        "id": "-WpkUPbLwB82",
        "outputId": "1fb4196c-418c-4889-9f3a-716a4aa9a17d"
      },
      "execution_count": null,
      "outputs": [
        {
          "output_type": "stream",
          "name": "stdout",
          "text": [
            "Confidence interval of 95% of channel 13 : \n",
            "C_I for group A:  [0.03688453618760945, 0.05711546381239055]\n",
            "C_I for group B:  [0.03688453618760945, 0.05711546381239055]\n",
            "C_I for group C:  [0.002884536187609454, 0.023115463812390546]\n",
            "C_I for group D:  [0.019884536187609454, 0.04011546381239055]\n",
            "C_I for group E:  [0.022884536187609456, 0.04311546381239055]\n",
            "C_I for group F:  [0.022884536187609456, 0.04311546381239055]\n",
            "C_I for group G:  [0.027884536187609454, 0.04811546381239054]\n",
            "C_I for group H:  [0.03688453618760945, 0.05711546381239055]\n",
            "C_I for group I:  [0.27588453618760944, 0.2961154638123905]\n",
            "C_I for group J:  [0.018884536187609456, 0.03911546381239055]\n",
            "C_I for group K:  [0.023884536187609457, 0.04411546381239055]\n",
            "C_I for group L:  [0.008884536187609454, 0.029115463812390545]\n",
            "C_I for group M:  [0.27388453618760944, 0.2941154638123905]\n",
            "C_I for group N:  [0.04988453618760945, 0.07011546381239055]\n",
            "\n",
            "\n",
            "\n",
            "\n",
            "\n",
            "Confidence interval of 95% of channel 12 : \n",
            "C_I for group A:  [0.027905818356748366, 0.050094181643251634]\n",
            "C_I for group B:  [0.04690581835674837, 0.06909418164325164]\n",
            "C_I for group C:  [0.028905818356748367, 0.051094181643251635]\n",
            "C_I for group D:  [0.028905818356748367, 0.051094181643251635]\n",
            "C_I for group E:  [0.019905818356748366, 0.042094181643251634]\n",
            "C_I for group F:  [0.040905818356748364, 0.06309418164325163]\n",
            "C_I for group G:  [0.018905818356748365, 0.04109418164325163]\n",
            "C_I for group H:  [0.021905818356748367, 0.044094181643251636]\n",
            "C_I for group I:  [0.28690581835674833, 0.30909418164325164]\n",
            "C_I for group J:  [0.024905818356748363, 0.04709418164325163]\n",
            "C_I for group K:  [0.03190581835674836, 0.05409418164325163]\n",
            "C_I for group L:  [0.006905818356748366, 0.02909418164325163]\n",
            "C_I for group M:  [0.19090581835674839, 0.21309418164325164]\n",
            "C_I for group N:  [0.06790581835674837, 0.09009418164325163]\n"
          ]
        }
      ]
    },
    {
      "cell_type": "markdown",
      "source": [
        "**part C :**"
      ],
      "metadata": {
        "id": "_SmgG-3BqbXx"
      }
    },
    {
      "cell_type": "code",
      "source": [
        "prec_sort13 = sorted(Prec_Arr_13)\n",
        "prec_sort12 = sorted(Prec_Arr_12)\n",
        "C_I_down13 = []\n",
        "C_I_up13 = []\n",
        "C_I_down12 = []\n",
        "C_I_up12 = []\n",
        "Names13 = []\n",
        "Names12 = []\n",
        "for i in range(len(prec_sort12)):\n",
        "  e_13 = 1.96*math.sqrt(0.25/total_votes13)\n",
        "  C_I_down13.append(prec_sort13[i] - e_13)\n",
        "  C_I_up13.append(prec_sort13[i] + e_13)\n",
        "  k = Prec_Arr_13.index(prec_sort13[i])\n",
        "  Prec_Arr_13[k] = -49\n",
        "  Names13.append(data_13.columns[k])\n",
        "  e_12 = 1.96*math.sqrt(0.25/total_votes12)\n",
        "  C_I_down12.append(prec_sort12[i] - e_12)\n",
        "  C_I_up12.append(prec_sort12[i] + e_12)\n",
        "  k = Prec_Arr_12.index(prec_sort12[i])\n",
        "  Prec_Arr_12[k] = -49\n",
        "  Names12.append(data_12.columns[k])\n",
        "\n",
        "plt.vlines(Names13, ymin=C_I_down13,ymax = C_I_up13,color = \"b\",ls\n",
        "='-', lw=2)\n",
        "plt.title(\"channel 13\")\n",
        "plt.show()\n",
        "plt.vlines(Names12, ymin=C_I_down12,ymax = C_I_up12,color = \"b\",ls\n",
        "='-', lw=2)\n",
        "plt.title(\"channel 12\")\n",
        "plt.show()\n"
      ],
      "metadata": {
        "colab": {
          "base_uri": "https://localhost:8080/",
          "height": 545
        },
        "id": "jMubUUiw2lFb",
        "outputId": "e5ff129a-94c3-4359-9ee7-8e033f1bbcd2"
      },
      "execution_count": null,
      "outputs": [
        {
          "output_type": "display_data",
          "data": {
            "text/plain": [
              "<Figure size 432x288 with 1 Axes>"
            ],
            "image/png": "[encoded data removed]"
          },
          "metadata": {
            "needs_background": "light"
          }
        },
        {
          "output_type": "display_data",
          "data": {
            "text/plain": [
              "<Figure size 432x288 with 1 Axes>"
            ],
            "image/png": "[encoded data removed]"
          },
          "metadata": {
            "needs_background": "light"
          }
        }
      ]
    },
    {
      "cell_type": "markdown",
      "source": [
        " **part D :**"
      ],
      "metadata": {
        "id": "5olI7Meo_Fav"
      }
    },
    {
      "cell_type": "markdown",
      "source": [
        "Based on the channel 12 diagram we can assume that group L got more votes . However based on channel 13's we can't assume it, because there is overlap between the C_I of each group."
      ],
      "metadata": {
        "id": "6tbWN9v292fR"
      }
    },
    {
      "cell_type": "markdown",
      "source": [
        "**part E :**"
      ],
      "metadata": {
        "id": "hgPumv4H_EfV"
      }
    },
    {
      "cell_type": "markdown",
      "source": [
        "After testing we didnt see overlap between group L and M on channel 12 therefor we can still tell that group L got more votes. On channel 13 there is no need to check because as a goes down the interval gets bigger , thus if there was an overlap already it wouldnt change."
      ],
      "metadata": {
        "id": "6D2UgB9E_KTF"
      }
    },
    {
      "cell_type": "code",
      "source": [
        "Prec_Arr_12 = VoteArr_12.copy()\n",
        "for i in range(len(VoteArr_12)):\n",
        "  Prec_Arr_12[i] = round(Prec_Arr_12[i]/total_votes12,3)\n",
        "\n",
        "prec_sort12 = sorted(Prec_Arr_12)\n",
        "C_I_down12 = []\n",
        "Names13 = []\n",
        "Names12 = []\n",
        "for i in range(len(prec_sort12)):\n",
        "  e_12 = 2.48*math.sqrt(0.25/total_votes12)\n",
        "  C_I_down12.append(prec_sort12[i] - e_12)\n",
        "  C_I_up12.append(prec_sort12[i] + e_12)\n",
        "  k = Prec_Arr_12.index(prec_sort12[i])\n",
        "  Prec_Arr_12[k] = -49\n",
        "  Names12.append(data_12.columns[k])\n",
        "\n",
        "plt.vlines(Names12, ymin=C_I_down12,ymax = C_I_up12,color = \"b\",ls\n",
        "='-', lw=2)\n",
        "plt.title(\"channel 12\")\n",
        "plt.show()"
      ],
      "metadata": {
        "colab": {
          "base_uri": "https://localhost:8080/",
          "height": 281
        },
        "id": "yLOiRlJ4ARSm",
        "outputId": "8423376f-4a68-4370-b7f9-1cfb79b2b350"
      },
      "execution_count": null,
      "outputs": [
        {
          "output_type": "display_data",
          "data": {
            "text/plain": [
              "<Figure size 432x288 with 1 Axes>"
            ],
            "image/png": "[encoded data removed]"
          },
          "metadata": {
            "needs_background": "light"
          }
        }
      ]
    }
  ]
}