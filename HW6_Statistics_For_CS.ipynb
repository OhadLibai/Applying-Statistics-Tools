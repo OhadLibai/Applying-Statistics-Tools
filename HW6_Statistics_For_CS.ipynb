{
  "nbformat": 4,
  "nbformat_minor": 0,
  "metadata": {
    "colab": {
      "provenance": []
    },
    "kernelspec": {
      "name": "python3",
      "display_name": "Python 3"
    },
    "language_info": {
      "name": "python"
    }
  },
  "cells": [
    {
      "cell_type": "markdown",
      "source": [
        "# Q4"
      ],
      "metadata": {
        "id": "EFeVwpI6sr4U"
      }
    },
    {
      "cell_type": "markdown",
      "source": [
        "### c."
      ],
      "metadata": {
        "id": "2CtrvAGMsvFy"
      }
    },
    {
      "cell_type": "code",
      "execution_count": null,
      "metadata": {
        "id": "lU_9gH0dPUP2"
      },
      "outputs": [],
      "source": [
        "from scipy.stats import expon\n",
        "from scipy.stats import poisson\n",
        "import matplotlib.pyplot as plt\n",
        "import numpy as np\n",
        "\n",
        "\n",
        "\n",
        "\n",
        "def calc_var_expon(lst):\n",
        "  num_left_sum = 0\n",
        "  num_right_sum = 0\n",
        "  for i in range(len(lst)):\n",
        "    curr = lst[i]\n",
        "    num_left_sum += (1/(sum(curr)/len(curr)))**2\n",
        "    num_right_sum += 1/(sum(curr)/len(curr))\n",
        "\n",
        "  return num_left_sum/len(lst) - ((num_right_sum/len(lst))**2)\n",
        "\n",
        "def calc_expected(lst):\n",
        "  suma = 0\n",
        "  for i in range(len(lst)):\n",
        "    suma += (1/(sum(lst[i])/len(lst[i])))\n",
        "\n",
        "  return suma/len(lst)\n",
        "\n",
        "def calc_var_poi(lst):\n",
        "  num_left_sum = 0\n",
        "  num_right_sum = 0\n",
        "  for i in range(len(lst)):\n",
        "    curr = lst[i]\n",
        "    num_left_sum += (sum(curr)/len(curr))**2\n",
        "    num_right_sum += sum(curr)/len(curr)\n",
        "\n",
        "  return num_left_sum/len(lst) - ((num_right_sum/len(lst))**2)\n",
        "\n"
      ]
    },
    {
      "cell_type": "code",
      "source": [
        "n=10000\n",
        "num_of_points=10\n",
        "#lambda=0.1\n",
        "\n",
        "MSE_val_A = []\n",
        "MSE_val_B = []\n",
        "for i in range(num_of_points):\n",
        "  lst_exp = [ expon.rvs(scale=10 , size=20) for i in range(n)]\n",
        "  MSE_val_A.append(calc_var_expon(lst_exp) + (calc_expected(lst_exp) - 0.1)**2)\n",
        "\n",
        "  lst_poi = [poisson.rvs(mu=0.1, size=20) for i in range(n)] #here we take t=1, which means how many occurs in 1 year\n",
        "  MSE_val_B.append(calc_var_poi(lst_poi))\n",
        "\n",
        "x_axis = [ x for x in range(1,num_of_points+1)]\n",
        "plt.scatter(x_axis, MSE_val_A)\n",
        "plt.scatter(x_axis, MSE_val_B,)\n",
        "plt.ylabel(\"MSE\")\n",
        "plt.xlabel(\"Number Of Experiments\")\n",
        "plt.title(\"lambda = 0.1 , blue=A;exponential , orange=B;poisson\")\n",
        "\n",
        "print(\"Average of investigator A MSE values: \" + str(sum(MSE_val_A)/num_of_points))\n",
        "print(\"Average of investigator B MSE values: \" + str(sum(MSE_val_B)/num_of_points))\n",
        "\n",
        "#print(\"MSE of A: \" + str(MSE_val_A) + \"\\n\" + \"MSE of B: \" + str(MSE_val_B))\n",
        "#print(\"blue is MSE of A-exponential \\norange is MSE of B-poisson\")\n",
        "#presenting simulation of num_of_points different MSE to each of the estimators"
      ],
      "metadata": {
        "colab": {
          "base_uri": "https://localhost:8080/",
          "height": 330
        },
        "id": "p5D82-YXvl34",
        "outputId": "59fc1305-3409-4403-dfe5-ae2f0f5df5e7"
      },
      "execution_count": null,
      "outputs": [
        {
          "output_type": "stream",
          "name": "stdout",
          "text": [
            "Average of investigator A MSE values:0.0006392557331547657\n",
            "Average of investigator B MSE values:0.005026514710000028\n"
          ]
        },
        {
          "output_type": "display_data",
          "data": {
            "text/plain": [
              "<Figure size 432x288 with 1 Axes>"
            ],
            "image/png": "[encoded data removed]"
          },
          "metadata": {
            "needs_background": "light"
          }
        }
      ]
    },
    {
      "cell_type": "code",
      "source": [
        "n=10000\n",
        "num_of_points=10\n",
        "#lambda=10\n",
        "\n",
        "MSE_val_A = []\n",
        "MSE_val_B = []\n",
        "for i in range(num_of_points):\n",
        "  lst_exp = [expon.rvs(scale=0.1 , size=20) for i in range(n)]\n",
        "  MSE_val_A.append(calc_var_expon(lst_exp) + (calc_expected(lst_exp) - 10)**2)\n",
        "\n",
        "  lst_poi = [poisson.rvs(mu=10, size=20) for i in range(n)] #here we take t=1, which means how many occurs in 1 year\n",
        "  MSE_val_B.append(calc_var_poi(lst_poi))\n",
        "\n",
        "\n",
        "x_axis = [ x for x in range(1,num_of_points+1)]\n",
        "plt.scatter(x_axis, MSE_val_A)\n",
        "plt.scatter(x_axis, MSE_val_B,)\n",
        "plt.ylabel(\"MSE\")\n",
        "plt.xlabel(\"Number Of Experiments\")\n",
        "plt.title(\"lambda = 10 , blue=A;exponential , orange=B;poisson\")\n",
        "\n",
        "print(\"Average of investigator A MSE values: \" + str(sum(MSE_val_A)/num_of_points))\n",
        "print(\"Average of investigator B MSE values: \" + str(sum(MSE_val_B)/num_of_points))\n",
        "\n",
        "#print(\"MSE of A: \" + str(MSE_val_A) + \"\\n\" + \"MSE of B: \" + str(MSE_val_B))\n",
        "#print(\"blue is MSE of A-exponential \\norange is MSE of B-poisson\")\n",
        "#presenting simulation of num_of_points different MSE to each of the estimators"
      ],
      "metadata": {
        "colab": {
          "base_uri": "https://localhost:8080/",
          "height": 330
        },
        "id": "DvQafp09_N6m",
        "outputId": "89f98c5c-4213-4b75-d42b-5886fc2bd5c9"
      },
      "execution_count": null,
      "outputs": [
        {
          "output_type": "stream",
          "name": "stdout",
          "text": [
            "Average of investigator A MSE values:6.424536960168979\n",
            "Average of investigator B MSE values:0.5001678187448448\n"
          ]
        },
        {
          "output_type": "display_data",
          "data": {
            "text/plain": [
              "<Figure size 432x288 with 1 Axes>"
            ],
            "image/png": "[encoded data removed]"
          },
          "metadata": {
            "needs_background": "light"
          }
        }
      ]
    },
    {
      "cell_type": "markdown",
      "source": [
        "* For lambda=0.1 exponential measurment preferable as poisson takes it harder to evalute small amount of earthquakes per year. Things change when the lambda=10. The variance of both approaches to 0, so it increases the overall MSE insignificantly. But the bias of exponential estimator effects the overall MSE value and increases it while the poisson has no bias and therfore does not influence."
      ],
      "metadata": {
        "id": "Qv7hCX77BJMu"
      }
    }
  ]
}