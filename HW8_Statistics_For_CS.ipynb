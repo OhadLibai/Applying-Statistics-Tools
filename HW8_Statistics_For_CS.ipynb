{
  "nbformat": 4,
  "nbformat_minor": 0,
  "metadata": {
    "colab": {
      "provenance": []
    },
    "kernelspec": {
      "name": "python3",
      "display_name": "Python 3"
    },
    "language_info": {
      "name": "python"
    }
  },
  "cells": [
    {
      "cell_type": "markdown",
      "source": [
        "#Q4"
      ],
      "metadata": {
        "id": "wBJKKcWjGqfn"
      }
    },
    {
      "cell_type": "code",
      "source": [
        "from scipy.stats import norm,t\n",
        "import statistics as stat\n",
        "import numpy as npg"
      ],
      "metadata": {
        "id": "nXgzb8JtHOaD"
      },
      "execution_count": null,
      "outputs": []
    },
    {
      "cell_type": "markdown",
      "source": [
        "###b."
      ],
      "metadata": {
        "id": "ntVh14UtHBkM"
      }
    },
    {
      "cell_type": "code",
      "execution_count": null,
      "metadata": {
        "colab": {
          "base_uri": "https://localhost:8080/"
        },
        "id": "bBZGI39mGVm3",
        "outputId": "dc80ae4f-1b01-4e13-ef09-bb48edf94e73"
      },
      "outputs": [
        {
          "output_type": "stream",
          "name": "stdout",
          "text": [
            "alpha is: 0.0514\n",
            "beta is: 0.1926\n"
          ]
        }
      ],
      "source": [
        "upper_bound = 174.342\n",
        "beta_bound = 169.342\n",
        "n=10**4\n",
        "\n",
        "vec_null = [ norm.rvs(size=25, loc=175, scale=2)  for i in range(n)]\n",
        "cnt_null = 0\n",
        "for i in range(n):\n",
        "  curr_mean = stat.mean(vec_null[i])\n",
        "  if curr_mean<upper_bound:\n",
        "    cnt_null+=1\n",
        "print(\"alpha is: \" + str(cnt_null/n))\n",
        "\n",
        "vec_alt = [ norm.rvs(loc=170, scale=10,size=25) for i in range(n)]\n",
        "cnt_alt = 0\n",
        "for i in range(n):\n",
        "  curr_mean=((stat.mean(vec_alt[i]) - 170) / 2) - 2.5\n",
        "  if curr_mean > -1.645:\n",
        "    cnt_alt+=1\n",
        "print(\"beta is: \" + str(cnt_alt/n))"
      ]
    },
    {
      "cell_type": "markdown",
      "source": [
        "### d.\n"
      ],
      "metadata": {
        "id": "vSr9DUHjPe7G"
      }
    },
    {
      "cell_type": "code",
      "source": [
        "upper_bound = -1.711\n",
        "\n",
        "vec_null = [ t.rvs(loc=175, size=25, df=24)  for i in range(n)]\n",
        "cnt_null = 0\n",
        "for i in range(n):\n",
        "  curr_mean = stat.mean(vec_null[i])\n",
        "  std_null=np.std(vec_null[i], ddof=1)\n",
        "  if ((curr_mean-175)/(std_null/5))<upper_bound:\n",
        "    cnt_null+=1\n",
        "print(\"alpha is: \" + str(cnt_null/n))\n",
        "\n",
        "vec_alt = [ t.rvs(loc=170, size=25, df=24)  for i in range(n)]\n",
        "cnt_alt = 0\n",
        "for i in range(n):\n",
        "  curr_mean = stat.mean(vec_alt[i])\n",
        "  std_alt=np.std(vec_alt[i], ddof=1)\n",
        "  if ((curr_mean-170)/(std_alt/5))-2.5>upper_bound:\n",
        "    cnt_alt+=1\n",
        "print(\"beta is: \" + str(cnt_alt/n))"
      ],
      "metadata": {
        "colab": {
          "base_uri": "https://localhost:8080/"
        },
        "id": "f-YM5VgKPg99",
        "outputId": "1af90bde-7a9c-4b94-b1da-7e514ded43a5"
      },
      "execution_count": null,
      "outputs": [
        {
          "output_type": "stream",
          "name": "stdout",
          "text": [
            "alpha is: 0.0513\n",
            "beta is: 0.2106\n"
          ]
        }
      ]
    }
  ]
}