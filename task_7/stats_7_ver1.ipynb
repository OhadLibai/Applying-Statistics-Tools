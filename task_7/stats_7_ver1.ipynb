{
  "nbformat": 4,
  "nbformat_minor": 0,
  "metadata": {
    "colab": {
      "provenance": [],
      "authorship_tag": "ABX9TyP96mo1sGdQNKVryzJDJrTV"
    },
    "kernelspec": {
      "name": "python3",
      "display_name": "Python 3"
    },
    "language_info": {
      "name": "python"
    }
  },
  "cells": [
    {
      "cell_type": "markdown",
      "source": [
        "#Q1"
      ],
      "metadata": {
        "id": "omqAEM0ADVCk"
      }
    },
    {
      "cell_type": "code",
      "execution_count": null,
      "metadata": {
        "id": "3H6gjJo3-HIN"
      },
      "outputs": [],
      "source": [
        "import statistics as st\n",
        "from scipy.stats import norm\n",
        "\n",
        "\n",
        "def CI(vector, alpha, sigma, mu):\n",
        "  mean_val = st.mean(vector)\n",
        "  quantile = norm.ppf(1 - (alpha/2))\n",
        "  lower_bound = mean_val - (quantile*sigma/(len(vector)**0.5))\n",
        "  upper_bound = mean_val + (quantile*sigma/(len(vector)**0.5))\n",
        "  interval_length = upper_bound - lower_bound\n",
        "  bool_contains = True if lower_bound<=mu<=upper_bound else False\n",
        "  prob_fall_into = norm.cdf(upper_bound, loc=mu, scale=sigma) - norm.cdf(lower_bound, loc=mu, scale=sigma)\n",
        "\n",
        "  return [lower_bound, upper_bound, interval_length, bool_contains, prob_fall_into]\n",
        "\n",
        "\n",
        "def generating_list_of_list_of_paramaters(midgam, alpha, sigma, mu):\n",
        "  list_of_list_of_paramaters=[]\n",
        "  for vector in midgam:\n",
        "    curr_list_of_paramaters = CI(vector,alpha, sigma, mu)\n",
        "    list_of_list_of_paramaters.append(curr_list_of_paramaters)\n",
        "  return list_of_list_of_paramaters\n",
        "\n",
        "\n",
        "def mean_interval_length(list_of_list_of_paramaters): #(1a)\n",
        "  suma = 0\n",
        "  for list_of_paramaters in list_of_list_of_paramaters:\n",
        "    suma+= list_of_paramaters[2]\n",
        "  return suma/len(list_of_list_of_paramaters)\n",
        "\n",
        "\n",
        "def STD(list_of_list_of_paramaters): #(1b)\n",
        "  mean = mean_interval_length(list_of_list_of_paramaters)\n",
        "  suma = 0\n",
        "  for list_of_paramaters in list_of_list_of_paramaters:\n",
        "    suma+= (list_of_paramaters[2]-mean)**2\n",
        "  return (suma/len(list_of_list_of_paramaters))**0.5\n",
        "\n",
        "\n",
        "def prob_CI_contains(list_of_list_of_paramaters): #(2)\n",
        "  cnt = 0\n",
        "  for list_of_paramaters in list_of_list_of_paramaters:\n",
        "    cnt += 1 if list_of_paramaters[3] else 0\n",
        "  return cnt/len(list_of_list_of_paramaters)\n",
        "\n",
        "\n",
        "#for (3) using one of the two below:\n",
        "#second seem to be more suitable, although the first is more intereseting and maybe more reflective\n",
        "\n",
        "def fall_into_using_lower_upper_bounds_avg(list_of_list_of_paramaters):\n",
        "  lower_sum = 0\n",
        "  upper_sum = 0\n",
        "  for list_of_paramaters in list_of_list_of_paramaters:\n",
        "    lower_sum+= list_of_paramaters[0]\n",
        "    upper_sum+= list_of_paramaters[1]\n",
        "\n",
        "  lower_bound_mean = lower_sum/len(list_of_list_of_paramaters)\n",
        "  upper_bound_mean = upper_sum/len(list_of_list_of_paramaters)\n",
        "\n",
        "  return norm.cdf(upper_bound_mean) - norm.cdf(lower_bound_mean)\n",
        "\n",
        "\n",
        "def fall_into_using_avg_of_fall_into_prob(list_of_list_of_paramaters):\n",
        "  summation = 0\n",
        "  for list_of_paramaters in list_of_list_of_paramaters:\n",
        "    summation += list_of_paramaters[4]\n",
        "  return summation/len(list_of_list_of_paramaters)\n",
        "\n",
        "\n",
        "def present_results(list_of_list_of_paramaters, n, alpha):\n",
        "  print(\"n=\" + str(n) +\", \" + \"alpha=\" + str(alpha) + \" results are:\" + \"\\n\"\n",
        "      \"(1a) average length of CI: \" + str(mean_interval_length(list_of_list_of_paramaters)) + \"\\n\"\n",
        "      \"(1b) STD: \" + str(STD(list_of_list_of_paramaters)) + \"\\n\"\n",
        "      \"(2) probability that real expected value within CI: \" + str(prob_CI_contains(list_of_list_of_paramaters)) + \"\\n\"\n",
        "      \"(3) probability that on average of the K samples of size n, one sample will appear within CI: \" + str(fall_into_using_avg_of_fall_into_prob(list_of_list_of_paramaters))\n",
        "       + \"\\n\")"
      ]
    },
    {
      "cell_type": "markdown",
      "source": [
        "##a."
      ],
      "metadata": {
        "id": "0crxwnNpi06L"
      }
    },
    {
      "cell_type": "code",
      "source": [
        "#distribution paramaters\n",
        "mu=175\n",
        "sigma=10\n",
        "\n",
        "K=10**4\n",
        "alpha=0.05\n",
        "\n",
        "###\n",
        "n=10\n",
        "midgam = [norm.rvs(loc=mu, scale=sigma, size=n) for i in range(K)]\n",
        "list_of_list_of_paramaters = generating_list_of_list_of_paramaters(midgam, alpha, sigma, mu)\n",
        "present_results(list_of_list_of_paramaters, n , alpha)\n",
        "\n",
        "###\n",
        "n=20\n",
        "midgam = [norm.rvs(loc=mu, scale=sigma, size=n) for i in range(K)]\n",
        "list_of_list_of_paramaters = generating_list_of_list_of_paramaters(midgam, alpha, sigma, mu)\n",
        "present_results(list_of_list_of_paramaters, n , alpha)\n",
        "\n",
        "###\n",
        "n=40\n",
        "midgam = [norm.rvs(loc=mu, scale=sigma, size=n) for i in range(K)]\n",
        "list_of_list_of_paramaters = generating_list_of_list_of_paramaters(midgam, alpha, sigma, mu)\n",
        "present_results(list_of_list_of_paramaters, n , alpha)\n",
        "\n",
        "###\n",
        "n=80\n",
        "midgam = [norm.rvs(loc=mu, scale=sigma, size=n) for i in range(K)]\n",
        "list_of_list_of_paramaters = generating_list_of_list_of_paramaters(midgam, alpha, sigma, mu)\n",
        "present_results(list_of_list_of_paramaters, n , alpha)"
      ],
      "metadata": {
        "colab": {
          "base_uri": "https://localhost:8080/"
        },
        "id": "WEOnFhz9i3f4",
        "outputId": "1c4c4902-c6e6-4afc-f073-e51f252be701"
      },
      "execution_count": null,
      "outputs": [
        {
          "output_type": "stream",
          "name": "stdout",
          "text": [
            "n=10, alpha=0.05 results are:\n",
            "(1a) average length of CI: 12.395900646092882\n",
            "(1b) STD: 1.6751044995544362e-12\n",
            "(2) probability that real expected value within CI: 0.947\n",
            "(3) probability that on average of the K samples of size n, one sample will appear within CI: 0.4453232220738217\n",
            "\n",
            "n=20, alpha=0.05 results are:\n",
            "(1a) average length of CI: 8.765225405765493\n",
            "(1b) STD: 3.2507330161024584e-13\n",
            "(2) probability that real expected value within CI: 0.9504\n",
            "(3) probability that on average of the K samples of size n, one sample will appear within CI: 0.3311625767116284\n",
            "\n",
            "n=40, alpha=0.05 results are:\n",
            "(1a) average length of CI: 6.197950323046441\n",
            "(1b) STD: 8.091305403468141e-13\n",
            "(2) probability that real expected value within CI: 0.9497\n",
            "(3) probability that on average of the K samples of size n, one sample will appear within CI: 0.2404339154383472\n",
            "\n",
            "n=80, alpha=0.05 results are:\n",
            "(1a) average length of CI: 4.382612702882747\n",
            "(1b) STD: 1.6253665080512292e-13\n",
            "(2) probability that real expected value within CI: 0.9528\n",
            "(3) probability that on average of the K samples of size n, one sample will appear within CI: 0.17239852954473814\n",
            "\n"
          ]
        }
      ]
    },
    {
      "cell_type": "markdown",
      "source": [
        "- Explanations:\n",
        "\n",
        "1.   As we could expect before simulating, when we enlarage the size of the vector sample we get smaller CI. The STD of the length of the interval doesn't should as function of n since we use fixed K. Seemingly changes is due to flooring of python.\n",
        "2.    Does not change becuase alpha does not change.\n",
        "\n",
        "3. Probability decreases when magnifying sample size due to diminishing in length of CI.\n",
        "\n",
        "\n",
        "\n"
      ],
      "metadata": {
        "id": "HBxfuFO8p7hI"
      }
    },
    {
      "cell_type": "markdown",
      "source": [
        "##b."
      ],
      "metadata": {
        "id": "DPO9BETDo1w4"
      }
    },
    {
      "cell_type": "code",
      "source": [
        "###\n",
        "n=30\n",
        "midgam = [norm.rvs(loc=mu, scale=sigma, size=n) for i in range(K)]\n",
        "list_of_list_of_paramaters = generating_list_of_list_of_paramaters(midgam, alpha, sigma, mu)\n",
        "present_results(list_of_list_of_paramaters, n , alpha)\n",
        "\n",
        "###\n",
        "alpha=0.1\n",
        "midgam = [norm.rvs(loc=mu, scale=sigma, size=n) for i in range(K)]\n",
        "list_of_list_of_paramaters = generating_list_of_list_of_paramaters(midgam, alpha, sigma, mu)\n",
        "present_results(list_of_list_of_paramaters, n , alpha)\n",
        "\n",
        "###\n",
        "alpha=0.2\n",
        "midgam = [norm.rvs(loc=mu, scale=sigma, size=n) for i in range(K)]\n",
        "list_of_list_of_paramaters = generating_list_of_list_of_paramaters(midgam, alpha, sigma, mu)\n",
        "present_results(list_of_list_of_paramaters, n , alpha)"
      ],
      "metadata": {
        "colab": {
          "base_uri": "https://localhost:8080/"
        },
        "id": "TFfLSNygo2-3",
        "outputId": "4b9e200f-927c-44d0-c53f-b8146c79c019"
      },
      "execution_count": null,
      "outputs": [
        {
          "output_type": "stream",
          "name": "stdout",
          "text": [
            "n=30, alpha=0.05 results are:\n",
            "(1a) average length of CI: 7.156776574868616\n",
            "(1b) STD: 0.0\n",
            "(2) probability that real expected value within CI: 0.9\n",
            "(3) probability that on average of the K samples of size n, one sample will appear within CI: 0.27504743793472264\n",
            "\n",
            "n=30, alpha=0.1 results are:\n",
            "(1a) average length of CI: 6.006156235170067\n",
            "(1b) STD: 0.0\n",
            "(2) probability that real expected value within CI: 0.9\n",
            "(3) probability that on average of the K samples of size n, one sample will appear within CI: 0.2336379338851416\n",
            "\n",
            "n=30, alpha=0.2 results are:\n",
            "(1a) average length of CI: 4.679564673698906\n",
            "(1b) STD: 0.0\n",
            "(2) probability that real expected value within CI: 0.8\n",
            "(3) probability that on average of the K samples of size n, one sample will appear within CI: 0.18140175452713908\n",
            "\n"
          ]
        }
      ]
    },
    {
      "cell_type": "markdown",
      "source": [
        "- Explanations:\n",
        "\n",
        "1.   Increasing alpha will result in lower CI length. Again, STD will not change due to K is fixed.\n",
        "2.  By definition as alpha goes up chances to find the real expected value within CI goes down.\n",
        "\n",
        "3. The length of CI tends to be smaller as alpha gets bigger, and as a result the probability of finding a sample in a smaller interval is of course getting lower.\n",
        "\n",
        "\n"
      ],
      "metadata": {
        "id": "tbCshWDCtVQ8"
      }
    },
    {
      "cell_type": "markdown",
      "source": [
        "# Q2"
      ],
      "metadata": {
        "id": "HNCBygbU65Na"
      }
    },
    {
      "cell_type": "markdown",
      "source": [
        "* Answers to other sections were given by handwrite."
      ],
      "metadata": {
        "id": "7hKcpJqYJ9Pg"
      }
    },
    {
      "cell_type": "markdown",
      "source": [
        "### c."
      ],
      "metadata": {
        "id": "M6rp9aIk6_A7"
      }
    },
    {
      "cell_type": "code",
      "source": [
        "import matplotlib.pyplot as plt\n",
        "import math\n",
        "\n",
        "n=100\n",
        "\n",
        "num_of_samples = [i for i in range(1,n+1)]\n",
        "d_values = [1.96*2/(sample)**0.5 for sample in num_of_samples]\n",
        "plt.plot(num_of_samples, d_values)\n",
        "\n",
        "\n",
        "for i in range(n):\n",
        "  if 1>=d_values[i]:\n",
        "    lst= [i-1,i]\n",
        "    break\n",
        "\n",
        "print(\"From c section we got that minimal n is 16. \" + \"According the graph, if n=\" + str(lst[0]) +\n",
        "      \" we get d value of \" + str(round(d_values[lst[0]], 2)) + \" which is greater than 1. If n=\" + str(lst[1]) + \" we get a d value of \" + str(d_values[lst[1]]) +\"\\n\" + \"which is smaller than 1.\"\n",
        "      + \"\\n\" + \"This margin between 16 and 15 derives from python ceiling and flooring calculations.\")\n",
        "\n",
        "\n",
        "\n",
        "\n",
        "min_n = math.ceil((1.96*2)**2) #16 and not 15. so we should get a 15 as d value greater than 1 and when n=16 smaller than 1.\n",
        "val_greater_than1 = d_values[min_n-1] #0.98\n",
        "val_lesser_than1 = d_values[min_n] #0.95\n"
      ],
      "metadata": {
        "colab": {
          "base_uri": "https://localhost:8080/"
        },
        "id": "8uunoTF17Anm",
        "outputId": "607ad3fa-41bc-4e70-efc5-46f66d4d4624"
      },
      "execution_count": null,
      "outputs": [
        {
          "output_type": "stream",
          "name": "stdout",
          "text": [
            "From c section we got that minimal n is 16. According the graph, if n=14 we get d value of 1.01 which is greater than 1. If n=15 we get a d value of 0.98\n",
            "which is smaller than 1.\n",
            "This margin between 16 and 15 derives from python ceiling and flooring calculations.\n"
          ]
        },
        {
          "output_type": "display_data",
          "data": {
            "text/plain": [
              "<Figure size 432x288 with 1 Axes>"
            ],
            "image/png": "[encoded data removed]"
          },
          "metadata": {
            "needs_background": "light"
          }
        }
      ]
    }
  ]
}