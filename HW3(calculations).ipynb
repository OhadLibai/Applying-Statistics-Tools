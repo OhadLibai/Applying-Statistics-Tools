{
  "nbformat": 4,
  "nbformat_minor": 0,
  "metadata": {
    "colab": {
      "provenance": []
    },
    "kernelspec": {
      "name": "python3",
      "display_name": "Python 3"
    },
    "language_info": {
      "name": "python"
    }
  },
  "cells": [
    {
      "cell_type": "code",
      "execution_count": null,
      "metadata": {
        "colab": {
          "base_uri": "https://localhost:8080/"
        },
        "id": "lPO9FY_tOIBF",
        "outputId": "31ac814a-a69c-4be3-d1f0-433aab39c5fd"
      },
      "outputs": [
        {
          "output_type": "stream",
          "name": "stdout",
          "text": [
            "[0, 38, 69, 84, 88, 92, 96, 100]\n",
            "70.875\n",
            "86.0\n"
          ]
        }
      ],
      "source": [
        "import statistics\n",
        "listi = [84,88,96,69,38,92,0,100]\n",
        "print(sorted(listi))\n",
        "print(statistics.mean(listi))\n",
        "print(statistics.median(listi))"
      ]
    },
    {
      "cell_type": "code",
      "source": [
        "from numpy.core.getlimits import inf\n",
        "import numpy as np\n",
        "import matplotlib.pyplot as plt\n",
        "from scipy.stats import poisson\n",
        "\n",
        "k = np.arange(start= 0 , stop = 40, step =1)\n",
        "cdf = poisson.cdf(k, mu = 20)\n",
        "print(np.round(cdf, 4))\n",
        "plt.plot(k,cdf)\n"
      ],
      "metadata": {
        "colab": {
          "base_uri": "https://localhost:8080/",
          "height": 386
        },
        "id": "oWEQ8zlZZkt0",
        "outputId": "c261dc84-3d7d-4008-8140-b16b1dd0f721"
      },
      "execution_count": null,
      "outputs": [
        {
          "output_type": "stream",
          "name": "stdout",
          "text": [
            "[0.000e+00 0.000e+00 0.000e+00 0.000e+00 0.000e+00 1.000e-04 3.000e-04\n",
            " 8.000e-04 2.100e-03 5.000e-03 1.080e-02 2.140e-02 3.900e-02 6.610e-02\n",
            " 1.049e-01 1.565e-01 2.211e-01 2.970e-01 3.814e-01 4.703e-01 5.591e-01\n",
            " 6.437e-01 7.206e-01 7.875e-01 8.432e-01 8.878e-01 9.221e-01 9.475e-01\n",
            " 9.657e-01 9.782e-01 9.865e-01 9.919e-01 9.953e-01 9.973e-01 9.985e-01\n",
            " 9.992e-01 9.996e-01 9.998e-01 9.999e-01 9.999e-01]\n"
          ]
        },
        {
          "output_type": "execute_result",
          "data": {
            "text/plain": [
              "[<matplotlib.lines.Line2D at 0x7fe01070f210>]"
            ]
          },
          "metadata": {},
          "execution_count": 3
        },
        {
          "output_type": "display_data",
          "data": {
            "text/plain": [
              "<Figure size 432x288 with 1 Axes>"
            ],
            "image/png": "[encoded data removed]"
          },
          "metadata": {
            "needs_background": "light"
          }
        }
      ]
    },
    {
      "cell_type": "code",
      "source": [
        "print(poisson.cdf(k=16, mu=20))\n",
        "\n",
        "sum=0\n",
        "for i in range(17):\n",
        "  sum+=(20**i)*(1/np.e**20)*i*np.math.factorial(i)\n",
        "print(sum)"
      ],
      "metadata": {
        "colab": {
          "base_uri": "https://localhost:8080/"
        },
        "id": "K7pAqycqk3tB",
        "outputId": "9d010a7d-3b0c-4c1a-d20f-299eadec0580"
      },
      "execution_count": null,
      "outputs": [
        {
          "output_type": "stream",
          "name": "stdout",
          "text": [
            "0.22107420155444113\n",
            "4.535282204887708e+26\n"
          ]
        }
      ]
    },
    {
      "cell_type": "code",
      "source": [
        "cnt=0\n",
        "cntShow=0\n",
        "n=100000\n",
        "for i in range(n):\n",
        "  tmp=poisson.rvs(20, loc=0, size=60)\n",
        "  boolean=False\n",
        "  for j in range(len(tmp)):\n",
        "    if tmp[j]<=16:\n",
        "      cnt+=j+1\n",
        "      boolean = True\n",
        "      break\n",
        "  if not boolean:\n",
        "    cntShow+=1\n",
        "\n",
        "print(\"cntShow: \" + str(cntShow))\n",
        "print(cnt/n)"
      ],
      "metadata": {
        "id": "PKLcfTAm7zwl",
        "colab": {
          "base_uri": "https://localhost:8080/"
        },
        "outputId": "2395a6ba-4cfd-4d5d-9bff-87e9faa933ec"
      },
      "execution_count": null,
      "outputs": [
        {
          "output_type": "stream",
          "name": "stdout",
          "text": [
            "cntShow: 0\n",
            "4.53827\n"
          ]
        }
      ]
    },
    {
      "cell_type": "code",
      "source": [
        "z = np.random.geometric(p=0.22, size=10000000)\n",
        "x = np.percentile(z,75)\n",
        "print(x)"
      ],
      "metadata": {
        "colab": {
          "base_uri": "https://localhost:8080/"
        },
        "id": "ryFm8phww5O1",
        "outputId": "25aab21d-1a6d-4c11-d8e8-0d77c8a24767"
      },
      "execution_count": null,
      "outputs": [
        {
          "output_type": "stream",
          "name": "stdout",
          "text": [
            "3.0\n"
          ]
        }
      ]
    },
    {
      "cell_type": "code",
      "source": [
        "cnt=0\n",
        "show_indication=0\n",
        "n=100000\n",
        "occur_arr=[]\n",
        "for i in range(n):\n",
        "  tmp=poisson.rvs(20, loc=0, size=60)\n",
        "  boolean=False\n",
        "  for j in range(len(tmp)):\n",
        "    if tmp[j]<=16:\n",
        "      occur_arr.append(j+1)\n",
        "      boolean = True\n",
        "      break\n",
        "  if not boolean:\n",
        "    show_indication+=1\n",
        "\n",
        "occur_arr.sort()\n",
        "print(occur_arr[75000])"
      ],
      "metadata": {
        "colab": {
          "base_uri": "https://localhost:8080/"
        },
        "id": "NjDc41-ZyYhn",
        "outputId": "be1a99fd-44a0-4c1b-e397-5c41de134835"
      },
      "execution_count": null,
      "outputs": [
        {
          "output_type": "stream",
          "name": "stdout",
          "text": [
            "6\n"
          ]
        }
      ]
    }
  ]
}