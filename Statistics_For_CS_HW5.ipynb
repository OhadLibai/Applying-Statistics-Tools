{
  "cells": [
    {
      "cell_type": "code",
      "execution_count": null,
      "metadata": {
        "colab": {
          "background_save": true
        },
        "id": "j_ARnsw0Pw4Q"
      },
      "outputs": [],
      "source": [
        "import math\n",
        "from matplotlib import pyplot as plt\n",
        "import numpy as np\n",
        "import scipy.stats\n",
        "import seaborn as sns\n",
        "import random"
      ]
    },
    {
      "cell_type": "markdown",
      "metadata": {
        "id": "A5ThFyprHwGr"
      },
      "source": [
        "#Q1"
      ]
    },
    {
      "cell_type": "code",
      "execution_count": null,
      "metadata": {
        "id": "Fi_MbyhLi8d9"
      },
      "outputs": [],
      "source": []
    },
    {
      "cell_type": "markdown",
      "metadata": {
        "id": "oWRwF0UmH09w"
      },
      "source": [
        "###a."
      ]
    },
    {
      "cell_type": "code",
      "execution_count": null,
      "metadata": {
        "id": "4tBrCVVrHm-S"
      },
      "outputs": [],
      "source": [
        "print(\"the probability is: \" + str(1-scipy.stats.norm(81.5,13).cdf(82)))"
      ]
    },
    {
      "cell_type": "markdown",
      "metadata": {
        "id": "ndwr6xaeIMH4"
      },
      "source": [
        "###b."
      ]
    },
    {
      "cell_type": "code",
      "execution_count": null,
      "metadata": {
        "id": "HD5hOhbLUAC_"
      },
      "outputs": [],
      "source": [
        "print(\"the probability is: \" + str((1-scipy.stats.norm(81.5,13).cdf(82))**50))"
      ]
    },
    {
      "cell_type": "markdown",
      "metadata": {
        "id": "c5WZdNSrH6-e"
      },
      "source": [
        "###c."
      ]
    },
    {
      "cell_type": "code",
      "execution_count": null,
      "metadata": {
        "id": "ckVGUg1KVdUc"
      },
      "outputs": [],
      "source": [
        "print(\"probability is:\" + str(1- scipy.stats.norm(81.5,13/(50**0.5)).cdf(82)))\n"
      ]
    },
    {
      "cell_type": "markdown",
      "metadata": {
        "id": "BkDL3qlMIC88"
      },
      "source": [
        "###d."
      ]
    },
    {
      "cell_type": "code",
      "execution_count": null,
      "metadata": {
        "id": "vh3SOqz4WVj8"
      },
      "outputs": [],
      "source": [
        "P_82 = scipy.stats.norm(81.5, 13/5).cdf(82)\n",
        "P_80 = scipy.stats.norm(81.5, 13/5).cdf(80)\n",
        "print(\"probability is: \" + str(P_82-P_80))"
      ]
    },
    {
      "cell_type": "markdown",
      "metadata": {
        "id": "r_8cp7y5IEnC"
      },
      "source": [
        "###e."
      ]
    },
    {
      "cell_type": "code",
      "execution_count": null,
      "metadata": {
        "id": "jqUL-c8DZndp"
      },
      "outputs": [],
      "source": [
        "print(\"the weight is: \" + str(scipy.stats.norm.ppf(0.9)*13+81.5))\n",
        "#print(\"calc in diffrent way: \" + str(scipy.stats.norm.ppf(0.9, 81.5,13)))\n"
      ]
    },
    {
      "cell_type": "markdown",
      "metadata": {
        "id": "5Rd8CdUbIQrS"
      },
      "source": [
        "###f."
      ]
    },
    {
      "cell_type": "markdown",
      "metadata": {
        "id": "oVQbZHS1asUX"
      },
      "source": [
        "**first equation**: 0.7 = P(X<=90) = P((X-mu)/sigma <= (90-mu)/sigma)) = P(Z<=(90-mu)/sigma)\n",
        "\n",
        "**second equation**:  0.2 = P(X<=70) = P((X-mu)/sigma <= (70-mu)/sigma)) = P(Z<=(70-mu)/sigma)\n",
        "* Z is standard normal distribution and we use PPf of it in order to get the percentile.\n",
        "\n",
        "Solving the above gives:\n"
      ]
    },
    {
      "cell_type": "code",
      "execution_count": null,
      "metadata": {
        "id": "rRg0omwVaQBd"
      },
      "outputs": [],
      "source": [
        "percentile_07 = scipy.stats.norm.ppf(0.7)\n",
        "percentile_02 = scipy.stats.norm.ppf(0.2)\n",
        "mu = (percentile_07*70 - 90*percentile_02) / (percentile_07-percentile_02)\n",
        "sigma = (90-mu) / (percentile_07)\n",
        "print(\"Expected value: \" + str(mu) + \"\\n\" + \"STD: \" + str(sigma))"
      ]
    },
    {
      "cell_type": "markdown",
      "metadata": {
        "id": "1BYEUqnMfDTy"
      },
      "source": [
        "#Q2"
      ]
    },
    {
      "cell_type": "markdown",
      "metadata": {
        "id": "qhwPZ9RkfGa9"
      },
      "source": [
        "###**a.**\n",
        "\n",
        "###X : CDF of Uniform(E = 3.5, STD = (25/12)^0.5)\n",
        "\n",
        "***value | CDF*** :\n",
        "\n",
        "X<1 | 0\n",
        "\n",
        "1<=X<2 | 1/6\n",
        "\n",
        "2<=X<3 | 2/6\n",
        "\n",
        "3<=X<4 | 3/6\n",
        "\n",
        "4<X<5 | 4/6\n",
        "\n",
        "5<=X<6 | 5/6\n",
        "\n",
        "X>6 | 1\n",
        "\n",
        "\n",
        "\n",
        ">\n",
        "\n",
        "###X2:\n",
        "E = 3.5\n",
        "\n",
        "STD = (25/24)^0.5"
      ]
    },
    {
      "cell_type": "markdown",
      "metadata": {
        "id": "A-mPdGRjfLYe"
      },
      "source": [
        "###b."
      ]
    },
    {
      "cell_type": "code",
      "execution_count": null,
      "metadata": {
        "id": "Ce_T5IxQtt8E"
      },
      "outputs": [],
      "source": [
        "\n",
        "randArr_int = [ (random.randint(1,6) + random.randint(1,6))/2 for i in range(10**5)]\n",
        "sns.kdeplot(randArr_int)\n",
        "E_int = sum(randArr_int)/len(randArr_int)\n",
        "\n",
        "STD_int = (((sum([(randArr_int[i] - E_int) for i in range(len(randArr_int))])) **2 ) / len(randArr_int))**0.5\n",
        "print(\"E is :\" ,E_int, \"\\n\",\"Std is :\" ,STD_int)"
      ]
    },
    {
      "cell_type": "markdown",
      "metadata": {
        "id": "oNPWX_OafNNS"
      },
      "source": [
        "###c."
      ]
    },
    {
      "cell_type": "code",
      "execution_count": null,
      "metadata": {
        "id": "hlfVE_xoDxN0"
      },
      "outputs": [],
      "source": [
        "E = sum(randArr_int)/len(randArr_int)\n",
        "STD = (((sum([(randArr_int[i] - E) for i in range(len(randArr_int))])) **2 ) / len(randArr_int))**0.5\n",
        "print(\"E = \" + str(E_int) + \"\\n\" + \"STD = \" + str(STD_int))"
      ]
    },
    {
      "cell_type": "markdown",
      "metadata": {
        "id": "0Oq3ykoz2z_q"
      },
      "source": [
        "* fits the assumptions in question 2.a in regards of changes in E and STD: E doesn't change, whereas STD approaches to 0 as we generate more samples."
      ]
    },
    {
      "cell_type": "markdown",
      "metadata": {
        "id": "RVWOru5BfOzg"
      },
      "source": [
        "###d."
      ]
    },
    {
      "cell_type": "code",
      "execution_count": null,
      "metadata": {
        "colab": {
          "background_save": true
        },
        "id": "3qqvzn7S5q1d",
        "outputId": "7649f38a-7fd8-499e-f67a-dc8ac00bdaea"
      },
      "outputs": [
        {
          "data": {
            "text/plain": [
              "<matplotlib.axes._subplots.AxesSubplot at 0x7fd439ea3580>"
            ]
          },
          "execution_count": 10,
          "metadata": {},
          "output_type": "execute_result"
        },
        {
          "data": {
            "image/png": "[encoded data removed]",
            "text/plain": [
              "<Figure size 432x288 with 1 Axes>"
            ]
          },
          "metadata": {},
          "output_type": "display_data"
        }
      ],
      "source": [
        "randArr_norm = np.random.normal(3.5, (25/24)**0.5, 10**7)\n",
        "sns.kdeplot(randArr_norm)"
      ]
    },
    {
      "cell_type": "markdown",
      "metadata": {
        "id": "9d6ZS9Xy6ULD"
      },
      "source": [
        "As we can see X2 distributes not close to normal at all.\n"
      ]
    },
    {
      "cell_type": "markdown",
      "metadata": {
        "id": "4WNAK186fQBe"
      },
      "source": [
        "###e."
      ]
    },
    {
      "cell_type": "code",
      "execution_count": null,
      "metadata": {
        "colab": {
          "background_save": true
        },
        "id": "pLNOZXFkBRh_"
      },
      "outputs": [],
      "source": [
        "def E_STD(array):\n",
        "  E = sum(array)/len(array)\n",
        "  STD = (((sum([(array[i] - E) for i in range(len(array))])) **2 ) / len(array))**0.5\n",
        "  print(\"E = \" + str(E) + \"\\n\" + \"STD = \" + str(STD))"
      ]
    },
    {
      "cell_type": "code",
      "execution_count": null,
      "metadata": {
        "colab": {
          "background_save": true
        },
        "id": "LjbdjRwj8MlG",
        "outputId": "23f25427-c55e-4fbe-a3a3-9ab23bb07143"
      },
      "outputs": [
        {
          "data": {
            "text/plain": [
              "([<matplotlib.axis.XTick at 0x7fd439e01af0>,\n",
              "  <matplotlib.axis.XTick at 0x7fd439e01a90>,\n",
              "  <matplotlib.axis.XTick at 0x7fd43e9edfd0>,\n",
              "  <matplotlib.axis.XTick at 0x7fd4398e06a0>,\n",
              "  <matplotlib.axis.XTick at 0x7fd4398e0be0>,\n",
              "  <matplotlib.axis.XTick at 0x7fd4398e7130>,\n",
              "  <matplotlib.axis.XTick at 0x7fd43e9ed520>,\n",
              "  <matplotlib.axis.XTick at 0x7fd439df4fd0>],\n",
              " <a list of 8 Text major ticklabel objects>)"
            ]
          },
          "execution_count": 12,
          "metadata": {},
          "output_type": "execute_result"
        },
        {
          "data": {
            "image/png": "[encoded data removed]",
            "text/plain": [
              "<Figure size 432x288 with 1 Axes>"
            ]
          },
          "metadata": {},
          "output_type": "display_data"
        }
      ],
      "source": [
        "#10 samples\n",
        "n=10\n",
        "m=10**5\n",
        "\n",
        "randArr_int = [ sum([random.randint(1,6) for i in range(n)])/n for i in range(m)]\n",
        "sns.kdeplot(randArr_int) #blue\n",
        "\n",
        "randArr_norm = np.random.normal(3.5, (25/(12*n))**0.5, 10**4)\n",
        "sns.kdeplot(randArr_norm)\n",
        "\n",
        "plt.xticks([0,1,2,3,4,5,6,7])\n",
        "#E_STD(randArr1)"
      ]
    },
    {
      "cell_type": "code",
      "execution_count": null,
      "metadata": {
        "colab": {
          "background_save": true
        },
        "id": "voD_V671yOKG",
        "outputId": "5de42624-f6fc-4848-88b7-28ec6609ba6e"
      },
      "outputs": [
        {
          "data": {
            "text/plain": [
              "([<matplotlib.axis.XTick at 0x7fd4398b1fd0>,\n",
              "  <matplotlib.axis.XTick at 0x7fd4398b1fa0>,\n",
              "  <matplotlib.axis.XTick at 0x7fd4398ef1f0>,\n",
              "  <matplotlib.axis.XTick at 0x7fd43984dc70>,\n",
              "  <matplotlib.axis.XTick at 0x7fd4398cd8b0>,\n",
              "  <matplotlib.axis.XTick at 0x7fd4398cddc0>,\n",
              "  <matplotlib.axis.XTick at 0x7fd439dec310>,\n",
              "  <matplotlib.axis.XTick at 0x7fd439dec820>],\n",
              " <a list of 8 Text major ticklabel objects>)"
            ]
          },
          "execution_count": 13,
          "metadata": {},
          "output_type": "execute_result"
        },
        {
          "data": {
            "image/png": "[encoded data removed]",
            "text/plain": [
              "<Figure size 432x288 with 1 Axes>"
            ]
          },
          "metadata": {},
          "output_type": "display_data"
        }
      ],
      "source": [
        "#15 samples\n",
        "n=15\n",
        "m=10**5\n",
        "\n",
        "randArr_int = [ sum([random.randint(1,6) for i in range(n)])/n for i in range(m)]\n",
        "sns.kdeplot(randArr_int) #orange\n",
        "\n",
        "randArr_norm = np.random.normal(3.5, (25/(12*n))**0.5, 10**4)\n",
        "sns.kdeplot(randArr_norm)\n",
        "\n",
        "plt.xticks([0,1,2,3,4,5,6,7])"
      ]
    },
    {
      "cell_type": "code",
      "execution_count": null,
      "metadata": {
        "colab": {
          "background_save": true
        },
        "id": "TFdMIpRKturI",
        "outputId": "1098a8f9-b601-4dee-c48a-2d19a3c31fc8"
      },
      "outputs": [
        {
          "data": {
            "text/plain": [
              "([<matplotlib.axis.XTick at 0x7fd439811490>,\n",
              "  <matplotlib.axis.XTick at 0x7fd439811460>,\n",
              "  <matplotlib.axis.XTick at 0x7fd439829b50>,\n",
              "  <matplotlib.axis.XTick at 0x7fd439835970>,\n",
              "  <matplotlib.axis.XTick at 0x7fd43983b2b0>,\n",
              "  <matplotlib.axis.XTick at 0x7fd43983b7c0>,\n",
              "  <matplotlib.axis.XTick at 0x7fd43983bcd0>,\n",
              "  <matplotlib.axis.XTick at 0x7fd4398881f0>],\n",
              " <a list of 8 Text major ticklabel objects>)"
            ]
          },
          "execution_count": 14,
          "metadata": {},
          "output_type": "execute_result"
        },
        {
          "data": {
            "image/png": "[encoded data removed]",
            "text/plain": [
              "<Figure size 432x288 with 1 Axes>"
            ]
          },
          "metadata": {},
          "output_type": "display_data"
        }
      ],
      "source": [
        "#20 samples\n",
        "n=20\n",
        "m=10**5\n",
        "\n",
        "randArr_int = [ sum([random.randint(1,6) for i in range(n)])/n for i in range(m)]\n",
        "sns.kdeplot(randArr_int) #blue\n",
        "\n",
        "randArr_norm = np.random.normal(3.5, (25/(12*n))**0.5, 10**4)\n",
        "sns.kdeplot(randArr_norm)\n",
        "\n",
        "plt.xticks([0,1,2,3,4,5,6,7])"
      ]
    },
    {
      "cell_type": "code",
      "execution_count": null,
      "metadata": {
        "id": "O7MwlACU-GX5"
      },
      "outputs": [],
      "source": [
        "#30 samples\n",
        "n=30\n",
        "m=10**5\n",
        "\n",
        "randArr_int = [ sum([random.randint(1,6) for i in range(n)])/n for i in range(m)]\n",
        "sns.kdeplot(randArr_int) #blue\n",
        "\n",
        "randArr_norm = np.random.normal(3.5, (25/(12*n))**0.5, 10**4)\n",
        "sns.kdeplot(randArr_norm)\n",
        "\n",
        "plt.xticks([0,1,2,3,4,5,6,7])\n"
      ]
    },
    {
      "cell_type": "code",
      "execution_count": null,
      "metadata": {
        "id": "_0yv1K2Wyzg7"
      },
      "outputs": [],
      "source": [
        "#50 samples\n",
        "n=50\n",
        "m=10**5\n",
        "\n",
        "randArr_int = [ sum([random.randint(1,6) for i in range(n)])/n for i in range(m)]\n",
        "sns.kdeplot(randArr_int) #blue\n",
        "\n",
        "randArr_norm = np.random.normal(3.5, (25/(12*n))**0.5, 10**4)\n",
        "sns.kdeplot(randArr_norm)\n",
        "\n",
        "plt.xticks([0,1,2,3,4,5,6,7])"
      ]
    },
    {
      "cell_type": "markdown",
      "metadata": {
        "id": "ePjn8r4qDEwQ"
      },
      "source": [
        "* Conclusion regarding enlarging sample size has been stated above."
      ]
    },
    {
      "cell_type": "markdown",
      "metadata": {
        "id": "tpNZCx-9fZN4"
      },
      "source": [
        "###f."
      ]
    },
    {
      "cell_type": "markdown",
      "metadata": {
        "id": "zZlIZtbIHkfR"
      },
      "source": [
        "Somewhere between 20-30, around 25.\n",
        "\n",
        "\n",
        "\n"
      ]
    },
    {
      "cell_type": "code",
      "execution_count": null,
      "metadata": {
        "colab": {
          "background_save": true
        },
        "id": "_iVz5j2OGWBK",
        "outputId": "e469b016-4bb4-42ce-f9e0-bba52acfc8d9"
      },
      "outputs": [
        {
          "name": "stdout",
          "output_type": "stream",
          "text": [
            "x_0.95 using CLT, from normally distributed 500 samples: 3.5011870708553725\n"
          ]
        }
      ],
      "source": [
        "#randArr_norm = np.random.normal(3.5, ((25/12)*(10**0.25))**0.5, 10000)\n",
        "#print(\"x_0.95 from normally distributed 10000 samples: \" + str(np.percentile(randArr_norm, 95)))\n",
        "print(\"x_0.95 using CLT, from normally distributed 500 samples: \" + str((((25/12)**0.5)/(10**3)/2) * scipy.stats.norm.ppf(0.95) + 3.5))\n",
        "#האם יש דרך נוספת- באמצעות אינטגרלים או מעבר אחר?"
      ]
    }
  ],
  "metadata": {
    "colab": {
      "provenance": []
    },
    "kernelspec": {
      "display_name": "Python 3",
      "name": "python3"
    },
    "language_info": {
      "name": "python"
    }
  },
  "nbformat": 4,
  "nbformat_minor": 0
}